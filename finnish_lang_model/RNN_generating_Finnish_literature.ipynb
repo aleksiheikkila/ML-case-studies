{
  "cells": [
    {
      "cell_type": "markdown",
      "metadata": {
        "id": "JL3ZPJPgC4wC"
      },
      "source": [
        "# Finnish literature generation using RNN"
      ]
    },
    {
      "cell_type": "markdown",
      "metadata": {
        "id": "bui0MyTjv1Mp"
      },
      "source": [
        "# Overview\n",
        "\n",
        "\n",
        "\n",
        "In this experiment I will \n",
        " - Gather a moderate-sized text corpora of Finnish literature from Project Guternberg (some tens of books).\n",
        " - Build and train a character-level Recurrent Neural Network (RNN) that will generate text like the Finnish literature used for training the model.\n",
        " - Generate some snippets of new Finnish \"literature\"\n",
        "\n",
        "Keras & Tensorflow will be used for this task.\n",
        "\n",
        "For an interesting read of the topic, have a look at the wonderful blog post\n",
        " [The Unreasonable Effectiveness of Recurrent Neural Networks](http://karpathy.github.io/2015/05/21/rnn-effectiveness/).\n"
      ]
    },
    {
      "cell_type": "markdown",
      "metadata": {
        "id": "IDJctDhhEDTD"
      },
      "source": [
        "## Imports"
      ]
    },
    {
      "cell_type": "code",
      "execution_count": 1,
      "metadata": {
        "id": "Z2xZnxncD2Ep"
      },
      "outputs": [],
      "source": [
        "# Selecting Tensorflow version v2 (for Colab only).\n",
        "# %tensorflow_version 2.x"
      ]
    },
    {
      "cell_type": "code",
      "execution_count": 2,
      "metadata": {
        "colab": {
          "base_uri": "https://localhost:8080/"
        },
        "id": "SpueB6zADYgE",
        "outputId": "5cd38c3e-e9ec-4618-fcc6-95b7f4b034bc"
      },
      "outputs": [
        {
          "output_type": "stream",
          "name": "stdout",
          "text": [
            "Python version: 3.7.12\n",
            "Tensorflow version: 2.7.0\n",
            "Keras version: 2.7.0\n"
          ]
        }
      ],
      "source": [
        "import platform\n",
        "\n",
        "import time\n",
        "import os\n",
        "\n",
        "import tensorflow as tf\n",
        "import matplotlib.pyplot as plt\n",
        "import numpy as np\n",
        "\n",
        "from pathlib import Path\n",
        "from collections import Counter\n",
        "\n",
        "# for downloading the book texts\n",
        "import requests\n",
        "from bs4 import BeautifulSoup\n",
        "from urllib.parse import urlparse, urljoin\n",
        "from functools import lru_cache\n",
        "\n",
        "\n",
        "print('Python version:', platform.python_version())\n",
        "print('Tensorflow version:', tf.__version__)\n",
        "print('Keras version:', tf.keras.__version__)"
      ]
    },
    {
      "cell_type": "code",
      "source": [
        "# Mount google Drive to Colab (for persisting data and models to colab)\n",
        "from google.colab import drive\n",
        "drive.mount('/content/gdrive')\n"
      ],
      "metadata": {
        "colab": {
          "base_uri": "https://localhost:8080/"
        },
        "id": "2_gwfXHplQuT",
        "outputId": "5adda8fc-875c-4c40-c3cf-110103111839"
      },
      "execution_count": 3,
      "outputs": [
        {
          "output_type": "stream",
          "name": "stdout",
          "text": [
            "Mounted at /content/gdrive\n"
          ]
        }
      ]
    },
    {
      "cell_type": "markdown",
      "metadata": {
        "id": "ciI_JnnNEGCw"
      },
      "source": [
        "## Collect the dataset"
      ]
    },
    {
      "cell_type": "markdown",
      "source": [
        "Let's grab some Finnish literature text from [Project Gutenberg](https://www.gutenberg.org/browse/languages/fi).\n",
        "\n",
        "It would probably be best to get all books from same author (or at least similar kinds of books, let's say typical fiction books but not plays that have different style), so that the style is probably more consistent.\n",
        "\n",
        "I decided to download texts by _Juhani Aho_, who seems to have been a fairly prolific writer."
      ],
      "metadata": {
        "id": "yx2bl3F6cjZS"
      }
    },
    {
      "cell_type": "markdown",
      "source": [
        "### Getting works of Juhani Aho from Project Gutenberg"
      ],
      "metadata": {
        "id": "8EJyzP6N_ObF"
      }
    },
    {
      "cell_type": "code",
      "source": [
        "# URL to the list of Finnish books available on Gutenberg\n",
        "GUTENBERG_FINNISH_CATALOGUE_URL = r\"https://www.gutenberg.org/browse/languages/fi\""
      ],
      "metadata": {
        "id": "eOLL4bat0p9F"
      },
      "execution_count": 4,
      "outputs": []
    },
    {
      "cell_type": "code",
      "source": [
        "def get_all_links(url: str) -> list:\n",
        "  \"\"\"\n",
        "  Returns all linked (internal, same site?) URLs that is found on `url`.\n",
        "  Duplicates are not removed.\n",
        "\n",
        "  Returns a list of tuples consisting of (link text, url)\n",
        "  \"\"\"\n",
        "  links = []\n",
        "\n",
        "  soup = BeautifulSoup(requests.get(url).content, \"html.parser\")\n",
        "\n",
        "  for a_tag in soup.findAll(\"a\"):\n",
        "    href = a_tag.attrs.get(\"href\")\n",
        "    if href == \"\" or href is None:\n",
        "        continue\n",
        "    \n",
        "    href = urljoin(url, href)\n",
        "\n",
        "    # remove URL GET parameters, URL fragments, etc.\n",
        "    parsed_href = urlparse(href)\n",
        "    href = parsed_href.scheme + \"://\" + parsed_href.netloc + parsed_href.path\n",
        "    links.append((a_tag.text, href))\n",
        "\n",
        "  return links\n"
      ],
      "metadata": {
        "id": "QivzTLC80yWF"
      },
      "execution_count": 5,
      "outputs": []
    },
    {
      "cell_type": "code",
      "source": [
        "@lru_cache(200)\n",
        "def get_book_text(url: str, \n",
        "                  suffix: str = \".txt.utf-8\",\n",
        "                  start_labels: list = [\"START OF THIS PROJECT GUTENBERG EBOOK\", \"START OF THE PROJECT GUTENBERG\"],\n",
        "                  end_labels: list = [\"End of the Project Gutenberg EBook\", \"***END OF THE PROJECT GUTENBERG\"],\n",
        "                  chars_to_skip_after_start_label: int = 1500,\n",
        "                  chars_to_skip_before_end_label: int = 5) -> str:\n",
        "  \"\"\"\n",
        "  Input: url to the Gutenberg book page, e.g. https://www.gutenberg.org/ebooks/10863\n",
        "\n",
        "  Tries to access the plain text for that book,\n",
        "  get rid of the content that is not actually part of the book.\n",
        "\n",
        "  Returns the book content as a string\n",
        "  \"\"\"\n",
        "\n",
        "  resp = requests.get(url + suffix)\n",
        "  if resp.status_code != 200:\n",
        "    print(\"Could not retrieve the book content for book url:\", url)\n",
        "    return None\n",
        "\n",
        "  text = resp.text\n",
        "\n",
        "  # Get rid of the preamble mumbo jumbo\n",
        "  for label in start_labels:\n",
        "    if label in text:\n",
        "      text = resp.text.split(label)\n",
        "      assert len(text) == 2, len(text)\n",
        "      text = text[1]\n",
        "      break\n",
        "\n",
        "  # Get rid of the mumbo jumbo at the end of the document\n",
        "  for label in end_labels:\n",
        "    if label in text:\n",
        "      text = text.split(label)\n",
        "      assert len(text) == 2, len(text)\n",
        "      text = text[0]\n",
        "      break\n",
        "\n",
        "  return text[chars_to_skip_after_start_label:-chars_to_skip_before_end_label]\n"
      ],
      "metadata": {
        "id": "DvP_KbCu1LkE"
      },
      "execution_count": 6,
      "outputs": []
    },
    {
      "cell_type": "code",
      "source": [
        "# Get all links from the Finnish books catalogue\n",
        "links = get_all_links(\"https://www.gutenberg.org/browse/languages/fi\")"
      ],
      "metadata": {
        "id": "XJP3lBL0gho2"
      },
      "execution_count": 7,
      "outputs": []
    },
    {
      "cell_type": "code",
      "source": [
        "# Filter to keep only links to all Juhani Aho works\n",
        "# His collections starts at link name containing \"Aho, Juhani, 1861-1921\"\n",
        "# and ends when we see next author. \n",
        "# Let's sue that for the logic. Neater way could be to scrape these from the html DOM hierarchy.\n",
        "\n",
        "aho_links = []\n",
        "\n",
        "collect = False\n",
        "for i, (name, url) in enumerate(links):\n",
        "  if not collect:\n",
        "    if \"Aho, Juhani, 1861-1921\" in name:\n",
        "      print(f\"Found 1st Aho, Juhani, 1861-1921 from list index {i}\")\n",
        "      collect = True\n",
        "      continue\n",
        "  else:\n",
        "    if \"browse/authors\" in url:\n",
        "      print(f\"Found next author after Aho, Juhani at list index {i}:\\t\", name, url, \"\\n\")\n",
        "      break\n",
        "    aho_links.append((name, url))\n"
      ],
      "metadata": {
        "colab": {
          "base_uri": "https://localhost:8080/"
        },
        "id": "C-r0X3QzsLs4",
        "outputId": "1226596e-c1fd-421c-dd21-5d208c62f462"
      },
      "execution_count": 8,
      "outputs": [
        {
          "output_type": "stream",
          "name": "stdout",
          "text": [
            "Found 1st Aho, Juhani, 1861-1921 from list index 208\n",
            "Found next author after Aho, Juhani at list index 260:\t Aho, Kalle, 1865-1936 https://www.gutenberg.org/browse/authors/a \n",
            "\n"
          ]
        }
      ]
    },
    {
      "cell_type": "code",
      "source": [
        "# There seems to be some audio books in Gutenberg too.\n",
        "# Find all audio books based on the class attribute of the li elements\n",
        "# Do not consider these for obtaining the text corpus (text not available I think)\n",
        "\n",
        "soup = BeautifulSoup(requests.get(GUTENBERG_FINNISH_CATALOGUE_URL).content, \"html.parser\")\n",
        "audiobook_urls = set()\n",
        "\n",
        "for li_elem in soup.findAll(\"li\", class_=\"pgdbaudio\"):\n",
        "  audiobook_urls.add(urljoin(GUTENBERG_FINNISH_CATALOGUE_URL, li_elem.find_next(\"a\").attrs.get(\"href\")))\n",
        "\n",
        "audiobook_urls"
      ],
      "metadata": {
        "colab": {
          "base_uri": "https://localhost:8080/"
        },
        "id": "Ect9HNgZ1ZDJ",
        "outputId": "5c623d7e-7cfa-46c4-b442-03d2a11f7f4a"
      },
      "execution_count": 9,
      "outputs": [
        {
          "output_type": "execute_result",
          "data": {
            "text/plain": [
              "{'https://www.gutenberg.org/ebooks/10265',\n",
              " 'https://www.gutenberg.org/ebooks/20272',\n",
              " 'https://www.gutenberg.org/ebooks/20970',\n",
              " 'https://www.gutenberg.org/ebooks/22786'}"
            ]
          },
          "metadata": {},
          "execution_count": 9
        }
      ]
    },
    {
      "cell_type": "code",
      "source": [
        "# Filter to keep works by Juhani Aho that are not plays (näytelmä) nor audiobooks.\n",
        "# Plays have a little bit different \"textual structure\".\n",
        "aho_filtered_links = []\n",
        "\n",
        "for name, url in aho_links:\n",
        "  if url in audiobook_urls or \"näytelmä\" in name.lower():\n",
        "    continue\n",
        "  aho_filtered_links.append((name, url))\n",
        "\n",
        "len(aho_links), len(aho_filtered_links)"
      ],
      "metadata": {
        "colab": {
          "base_uri": "https://localhost:8080/"
        },
        "id": "Ia8sWtKavaoY",
        "outputId": "1142ea61-cc75-4f87-9c45-e0b54b10c1c1"
      },
      "execution_count": 10,
      "outputs": [
        {
          "output_type": "execute_result",
          "data": {
            "text/plain": [
              "(51, 44)"
            ]
          },
          "metadata": {},
          "execution_count": 10
        }
      ]
    },
    {
      "cell_type": "markdown",
      "source": [
        ""
      ],
      "metadata": {
        "id": "TqnzEEj68qHc"
      }
    },
    {
      "cell_type": "code",
      "source": [
        "# Download the Juhan Aho books content and smash them together into one big string\n",
        "book_contents = []\n",
        "\n",
        "for i, (name, url) in enumerate(aho_filtered_links):\n",
        "  print(f\"{i}. Getting: {name} \\t from url: {url}\")\n",
        "  book_content = get_book_text(url)\n",
        "  book_contents.append(book_content)\n",
        "\n",
        "print(\"\\nDONE\\n\")\n",
        "print(f\"Num books obtained: {len(book_contents)}\")"
      ],
      "metadata": {
        "colab": {
          "base_uri": "https://localhost:8080/"
        },
        "id": "8xIDYeRa9JeC",
        "outputId": "7f7a4963-e2ec-47a7-95ef-5d7f1e8cb84c"
      },
      "execution_count": 11,
      "outputs": [
        {
          "output_type": "stream",
          "name": "stdout",
          "text": [
            "0. Getting: Aatteiden mies: Piirteitä August Fredrik Soldanin elämästä \t from url: https://www.gutenberg.org/ebooks/55248\n",
            "1. Getting: Ensimmäiset novellit \t from url: https://www.gutenberg.org/ebooks/13564\n",
            "Ensimmäinen ja toinen viikko \t from url: https://www.gutenberg.org/ebooks/56225\n",
            "Kolmas ja neljäs viikko \t from url: https://www.gutenberg.org/ebooks/57084\n",
            "Loppuviikot \t from url: https://www.gutenberg.org/ebooks/58637\n",
            "5. Getting: Hellmannin herra; Esimerkin vuoksi; Maailman murjoma \t from url: https://www.gutenberg.org/ebooks/13581\n",
            "6. Getting: Helsinkiin \t from url: https://www.gutenberg.org/ebooks/13580\n",
            "7. Getting: Heränneitä: Kuvauksia herännäisyyden ajoilta \t from url: https://www.gutenberg.org/ebooks/47199\n",
            "8. Getting: Herraskartano ja legendoja \t from url: https://www.gutenberg.org/ebooks/48629\n",
            "9. Getting: Jaakoppi \t from url: https://www.gutenberg.org/ebooks/39182\n",
            "10. Getting: Juha \t from url: https://www.gutenberg.org/ebooks/10863\n",
            "11. Getting: Katajainen kansani \t from url: https://www.gutenberg.org/ebooks/13768\n",
            "12. Getting: Kertomuksia ja kuvauksia \t from url: https://www.gutenberg.org/ebooks/59481\n",
            "13. Getting: Kevät ja takatalvi \t from url: https://www.gutenberg.org/ebooks/13920\n",
            "14. Getting: Kovina aikoina: Kertomus Suomen viimeisten nälkävuosien ajoilta \t from url: https://www.gutenberg.org/ebooks/44869\n",
            "15. Getting: Kuvia ja kuvitelmia Suomen historiasta I \t from url: https://www.gutenberg.org/ebooks/56123\n",
            "16. Getting: Kuvia ja kuvitelmia Suomen historiasta II \t from url: https://www.gutenberg.org/ebooks/56124\n",
            "17. Getting: Kuvia ja kuvitelmia Suomen historiasta III \t from url: https://www.gutenberg.org/ebooks/56125\n",
            "18. Getting: Lastuja I-III \t from url: https://www.gutenberg.org/ebooks/13691\n",
            "19. Getting: Lastuja IV-VII \t from url: https://www.gutenberg.org/ebooks/13745\n",
            "20. Getting: Lehtisiä mietekirjastani \t from url: https://www.gutenberg.org/ebooks/60049\n",
            "21. Getting: Lohilastuja ja kalakaskuja \t from url: https://www.gutenberg.org/ebooks/13769\n",
            "22. Getting: Minkä mitäkin Italiasta \t from url: https://www.gutenberg.org/ebooks/13780\n",
            "23. Getting: Minkä mitäkin Tyrolista \t from url: https://www.gutenberg.org/ebooks/13779\n",
            "24. Getting: Muistatko—? Kukkia Keväiseltä Niityltä \t from url: https://www.gutenberg.org/ebooks/9082\n",
            "25. Getting: Muistelmia ja matkakuvia \t from url: https://www.gutenberg.org/ebooks/13919\n",
            "26. Getting: Muuan markkinamies \t from url: https://www.gutenberg.org/ebooks/13566\n",
            "27. Getting: Omatunto: Saaristokertomus \t from url: https://www.gutenberg.org/ebooks/8494\n",
            "28. Getting: Panu \t from url: https://www.gutenberg.org/ebooks/13850\n",
            "29. Getting: Papin rouva \t from url: https://www.gutenberg.org/ebooks/13663\n",
            "30. Getting: Papin tytär \t from url: https://www.gutenberg.org/ebooks/13662\n",
            "31. Getting: Rauhan erakko \t from url: https://www.gutenberg.org/ebooks/13874\n",
            "32. Getting: Rautatie \t from url: https://www.gutenberg.org/ebooks/10481\n",
            "33. Getting: Sanomalehtimiesajoiltani \t from url: https://www.gutenberg.org/ebooks/11967\n",
            "34. Getting: Siirtolaisia: Kertomuksia Ameriikan suomalaisten elämästä \t from url: https://www.gutenberg.org/ebooks/62543\n",
            "35. Getting: Singoalla \t from url: https://www.gutenberg.org/ebooks/50202\n",
            "36. Getting: Taavetti Anttilan kohtalo: y.m. kertomuksia Ameriikan suomalaisten elämästä \t from url: https://www.gutenberg.org/ebooks/51791\n",
            "37. Getting: Välskärin kertomuksia 1Kuninkaan sormus. Miekka ja aura. Tuli ja vesi. \t from url: https://www.gutenberg.org/ebooks/36190\n",
            "38. Getting: Välskärin kertomuksia 2Kapinassa omaa onneaan vastaan. Noita-akka. Mainiemen linna. \t from url: https://www.gutenberg.org/ebooks/36278\n",
            "39. Getting: Välskärin kertomuksia 3Siniset. Pakolainen. Erään nimen varjo. \t from url: https://www.gutenberg.org/ebooks/36328\n",
            "40. Getting: Välskärin kertomuksia 4.1Erämaiden kevät. Porvariskuningas. \t from url: https://www.gutenberg.org/ebooks/36408\n",
            "41. Getting: Välskärin kertomuksia 4.2Vaasan prinsessa \t from url: https://www.gutenberg.org/ebooks/36466\n",
            "42. Getting: Välskärin kertomuksia 5Vapaa-ajattelija. Iltamyrskyjä. Aamun valkeneminen. \t from url: https://www.gutenberg.org/ebooks/36527\n",
            "43. Getting: Yksin \t from url: https://www.gutenberg.org/ebooks/13593\n",
            "\n",
            "DONE\n",
            "\n",
            "Num books obtained: 44\n"
          ]
        }
      ]
    },
    {
      "cell_type": "code",
      "source": [
        "# Join the works together\n",
        "text = \"\\n\\n\".join(book_contents)"
      ],
      "metadata": {
        "id": "2uyV7cYY9JUA"
      },
      "execution_count": 12,
      "outputs": []
    },
    {
      "cell_type": "code",
      "source": [
        "len(text)  # 16.5M characters. Not super big. Consider including some other authors"
      ],
      "metadata": {
        "colab": {
          "base_uri": "https://localhost:8080/"
        },
        "id": "BN8BhsAe9JJd",
        "outputId": "0eac057f-7e4f-49cb-e247-23dd61a112cf"
      },
      "execution_count": 13,
      "outputs": [
        {
          "output_type": "execute_result",
          "data": {
            "text/plain": [
              "16574590"
            ]
          },
          "metadata": {},
          "execution_count": 13
        }
      ]
    },
    {
      "cell_type": "code",
      "source": [
        "# Persist this data to Google Drive\n",
        "SAVE_TXT_TO_FOLDER = Path(\"/content/gdrive/MyDrive/colab/finnish_rnn_model/aho/data\")\n",
        "SAVE_TXT_FILENAME = \"aho_works.txt\"\n",
        "os.makedirs(SAVE_TXT_TO_FOLDER, exist_ok=True)\n",
        "\n",
        "with open(SAVE_TXT_TO_FOLDER / SAVE_TXT_FILENAME, \"w\") as f:\n",
        "  f.write(text)"
      ],
      "metadata": {
        "id": "ckAXS7emAo_3"
      },
      "execution_count": 14,
      "outputs": []
    },
    {
      "cell_type": "markdown",
      "source": [
        "Okay, we got ~16.6 MB of text."
      ],
      "metadata": {
        "id": "_iHs9SVY--r3"
      }
    },
    {
      "cell_type": "markdown",
      "source": [
        "### Alternative text corporas"
      ],
      "metadata": {
        "id": "K-7IBo-UghNy"
      }
    },
    {
      "cell_type": "code",
      "source": [
        "# Some alternative Finnish text corporas\n",
        "\n",
        "#URL_FINNISH_LITERATURE_DATA = r\"https://raw.githubusercontent.com/cedricdeboom/character-level-rnn-datasets/master/datasets/finnish.txt\"\n",
        "#FINNISH_LITERATURE_FILENAME = \"finnish-literature.txt\"\n",
        "\n",
        "#URL_FINNISH_MISC_DATA = r\"https://github.com/TurkuNLP/FinCORE/raw/master/data/train.tsv\"\n",
        "#FINNISH_MISC_FILENAME = \"finnish-misc.tsv\"\n"
      ],
      "metadata": {
        "id": "v2yTT1j-HY6a"
      },
      "execution_count": 15,
      "outputs": []
    },
    {
      "cell_type": "code",
      "execution_count": 16,
      "metadata": {
        "id": "Vk2HldshEOph"
      },
      "outputs": [],
      "source": [
        "# and getting these\n",
        "\n",
        "#cache_dir = './tmp'\n",
        "\n",
        "\n",
        "#dataset_file_path = tf.keras.utils.get_file(\n",
        "#                                fname=FINNISH_LITERATURE_FILENAME,\n",
        "#                                origin=URL_FINNISH_LITERATURE_DATA,\n",
        "#                                cache_dir=Path(cache_dir).absolute()\n",
        "#                              )\n",
        "#\n",
        "#print(dataset_file_path)\n",
        "\n",
        "# Reading the text file.\n",
        "#with open(dataset_file_path) as f:\n",
        "#  text = f.read()\n",
        "#print('Length of text: {} characters'.format(len(text)))"
      ]
    },
    {
      "cell_type": "markdown",
      "metadata": {
        "id": "eKTy6YS5Gx-g"
      },
      "source": [
        "## Examine the dataset"
      ]
    },
    {
      "cell_type": "code",
      "execution_count": 17,
      "metadata": {
        "colab": {
          "base_uri": "https://localhost:8080/"
        },
        "id": "CzfX7hK8G0bn",
        "outputId": "d185d2c1-cbdd-4193-9c11-d433a1ff3a5a"
      },
      "outputs": [
        {
          "output_type": "stream",
          "name": "stdout",
          "text": [
            "Length of text: 16574590 characters\n"
          ]
        }
      ],
      "source": [
        "print('Length of text: {} characters'.format(len(text)))"
      ]
    },
    {
      "cell_type": "code",
      "execution_count": 18,
      "metadata": {
        "colab": {
          "base_uri": "https://localhost:8080/"
        },
        "id": "nknOAOuoH-Av",
        "outputId": "25a36e8b-86d6-4f86-bee9-32804d842a58"
      },
      "outputs": [
        {
          "output_type": "stream",
          "name": "stdout",
          "text": [
            "ä pahe nyt suinkaan\r\n",
            "ollut mikään varsinainen pahe, vaan ainoastaan jonkunlainen paha tapa,\r\n",
            "jota hänen arka mielensä vanhemmilla päivillä suurenteli, siitä on\r\n",
            "tämän kirjoittaja vakuutettu. Olen kertonutkin sen vaan osoittaakseni,\r\n",
            "kuinka Soldan jo pienestä pitäen sai ja osasi taistella itseään\r\n",
            "vastaan, -- taistelu, joka hänellä jatkui kautta koko elämän\r\n",
            "monenlaisten sisällisten herätysten ja uudistusten muodossa.\r\n",
            "\r\n",
            "Soldanin varsinainen kasvatus- ja oppiaika alkoi vasta hänen\r\n",
            "kadettikouluun tultuaan v. 1830. Edellä olen jo maininnut sen\r\n",
            "otaksumisen, että hänen sotilasuralle antaumiseensa mahdollisesti\r\n",
            "vaikuttivat kaupungissa asuvat ja perheessä seurustelevat sotilaat,\r\n",
            "joiden käytös ja esimerkki aina ovat omiaan nuorten poikain silmiä\r\n",
            "häikäisemään ja herättämään haluja, joita todellisuudessa ei heidän\r\n",
            "luonteissaan aina ole olemassa. Soldanin myöhempi elämä todistaa, että\r\n",
            "hänellä kyllä oli taipumuksia ja lahjoja kaikille muille aloille paitse\r\n",
            "sotilaalliselle. Kadettikouluun t\n"
          ]
        }
      ],
      "source": [
        "# Take a look at a chunk of the text.\n",
        "print(text[20000:21000])"
      ]
    },
    {
      "cell_type": "code",
      "execution_count": 19,
      "metadata": {
        "colab": {
          "base_uri": "https://localhost:8080/"
        },
        "id": "VPXkB5bOITqi",
        "outputId": "8248b0de-9420-4470-b436-cf6cedc06e4d"
      },
      "outputs": [
        {
          "output_type": "stream",
          "name": "stdout",
          "text": [
            "Corpora contains 119 unique chars.\n",
            "Vocabulary: ['\\n', '\\r', ' ', '!', '\"', '#', '$', '%', '&', \"'\", '(', ')', '*', '+', ',', '-', '.', '/', '0', '1', '2', '3', '4', '5', '6', '7', '8', '9', ':', ';', '=', '?', '@', 'A', 'B', 'C', 'D', 'E', 'F', 'G', 'H', 'I', 'J', 'K', 'L', 'M', 'N', 'O', 'P', 'Q', 'R', 'S', 'T', 'U', 'V', 'W', 'X', 'Y', 'Z', '[', ']', '^', '_', '`', 'a', 'b', 'c', 'd', 'e', 'f', 'g', 'h', 'i', 'j', 'k', 'l', 'm', 'n', 'o', 'p', 'q', 'r', 's', 't', 'u', 'v', 'w', 'x', 'y', 'z', '|', '~', '§', '°', '´', '»', 'Ä', 'Å', 'É', 'Ö', 'Ü', 'à', 'á', 'â', 'ä', 'å', 'æ', 'ç', 'è', 'é', 'ê', 'ë', 'î', 'ï', 'ó', 'ô', 'ö', 'û', 'ü']\n"
          ]
        }
      ],
      "source": [
        "# Get the unique characters appearing in the text\n",
        "vocab = sorted(set(text))  # vocab is a list.\n",
        "\n",
        "print(f\"Corpora contains {len(vocab)} unique chars.\")\n",
        "print('Vocabulary:', vocab)"
      ]
    },
    {
      "cell_type": "code",
      "source": [
        "# Char counts\n",
        "char_counts = Counter(text)\n",
        "char_counts.most_common(len(vocab))"
      ],
      "metadata": {
        "colab": {
          "base_uri": "https://localhost:8080/"
        },
        "id": "dcGgrFb1n1Rg",
        "outputId": "2a4e22ab-8a38-42fa-98c6-2446b38e1093"
      },
      "execution_count": 20,
      "outputs": [
        {
          "output_type": "execute_result",
          "data": {
            "text/plain": [
              "[(' ', 1907945),\n",
              " ('a', 1575510),\n",
              " ('i', 1454542),\n",
              " ('n', 1281615),\n",
              " ('t', 1243759),\n",
              " ('e', 1064042),\n",
              " ('s', 916077),\n",
              " ('l', 774459),\n",
              " ('ä', 749682),\n",
              " ('k', 689765),\n",
              " ('u', 657278),\n",
              " ('o', 639374),\n",
              " ('m', 389047),\n",
              " ('\\n', 333627),\n",
              " ('\\r', 333572),\n",
              " ('h', 312249),\n",
              " ('v', 305524),\n",
              " ('r', 282434),\n",
              " ('j', 236162),\n",
              " ('p', 224035),\n",
              " (',', 209590),\n",
              " ('y', 206144),\n",
              " ('.', 166972),\n",
              " ('-', 99331),\n",
              " ('d', 94268),\n",
              " ('ö', 45858),\n",
              " ('S', 29597),\n",
              " ('M', 26795),\n",
              " ('K', 22906),\n",
              " ('E', 19801),\n",
              " ('H', 18936),\n",
              " ('T', 18012),\n",
              " ('g', 16584),\n",
              " ('J', 16051),\n",
              " ('!', 14373),\n",
              " ('?', 13814),\n",
              " ('P', 12537),\n",
              " ('N', 11556),\n",
              " ('\"', 11251),\n",
              " ('A', 10943),\n",
              " ('V', 10481),\n",
              " ('O', 10292),\n",
              " ('L', 9611),\n",
              " ('c', 8671),\n",
              " (':', 8161),\n",
              " ('I', 7601),\n",
              " ('f', 6972),\n",
              " ('R', 6657),\n",
              " ('»', 6169),\n",
              " (';', 6132),\n",
              " ('b', 5752),\n",
              " ('_', 5752),\n",
              " (\"'\", 4373),\n",
              " ('w', 3529),\n",
              " ('B', 3493),\n",
              " ('U', 3349),\n",
              " ('1', 2997),\n",
              " ('*', 2704),\n",
              " ('Y', 2361),\n",
              " ('G', 2138),\n",
              " ('0', 1694),\n",
              " ('F', 1662),\n",
              " ('Ä', 1474),\n",
              " ('2', 1199),\n",
              " ('D', 1196),\n",
              " (')', 1171),\n",
              " ('C', 1144),\n",
              " ('8', 1114),\n",
              " ('(', 1072),\n",
              " ('5', 862),\n",
              " ('3', 819),\n",
              " ('4', 750),\n",
              " ('7', 720),\n",
              " ('6', 705),\n",
              " ('W', 688),\n",
              " ('9', 666),\n",
              " ('z', 573),\n",
              " ('x', 498),\n",
              " ('[', 496),\n",
              " (']', 496),\n",
              " ('X', 441),\n",
              " ('/', 349),\n",
              " ('å', 279),\n",
              " ('q', 269),\n",
              " ('é', 257),\n",
              " ('ü', 180),\n",
              " ('Ö', 160),\n",
              " ('Å', 61),\n",
              " ('æ', 52),\n",
              " ('Z', 51),\n",
              " ('Q', 38),\n",
              " ('à', 33),\n",
              " ('$', 24),\n",
              " ('=', 23),\n",
              " ('&', 21),\n",
              " ('è', 21),\n",
              " ('@', 19),\n",
              " ('%', 15),\n",
              " ('|', 13),\n",
              " ('ç', 12),\n",
              " ('ô', 8),\n",
              " ('á', 7),\n",
              " ('§', 6),\n",
              " ('ê', 5),\n",
              " ('û', 4),\n",
              " ('É', 4),\n",
              " ('ë', 4),\n",
              " ('°', 3),\n",
              " ('^', 3),\n",
              " ('â', 2),\n",
              " ('î', 2),\n",
              " ('+', 2),\n",
              " ('~', 2),\n",
              " ('Ü', 2),\n",
              " ('ó', 2),\n",
              " ('ï', 2),\n",
              " ('#', 1),\n",
              " ('`', 1),\n",
              " ('´', 1)]"
            ]
          },
          "metadata": {},
          "execution_count": 20
        }
      ]
    },
    {
      "cell_type": "markdown",
      "source": [
        "We could get rid of some of the rare characters like 'à', 'á', 'â' by replacing them with 'a'.\n",
        "\n",
        "Maybe harmonizing \\n and \\r.\n",
        "\n",
        "Etc."
      ],
      "metadata": {
        "id": "Dia1KOMHh1F9"
      }
    },
    {
      "cell_type": "markdown",
      "metadata": {
        "id": "GqpuKh9HMNnf"
      },
      "source": [
        "## Process the dataset"
      ]
    },
    {
      "cell_type": "markdown",
      "metadata": {
        "id": "6dj4e-AGMaV4"
      },
      "source": [
        "### Vectorize text: chars to numbers\n",
        "\n",
        "The RNN model eats numbers. Before training, we need to convert the strings/chars to numeric representation (sequence of chars to sequence of ints, basically).\n",
        "\n",
        "To do that we will form a vocabulary out of all unique characters in the corpus and replace each character with its index in the vocabulary.\n",
        "\n",
        "We could also make us of the **tf.keras.layers.StringLookup** layer to convert each character into a numeric ID. It needs the text to be split into tokens first (**TODO: Try this**)."
      ]
    },
    {
      "cell_type": "code",
      "execution_count": 21,
      "metadata": {
        "colab": {
          "base_uri": "https://localhost:8080/"
        },
        "id": "xFFpuXfGMPq2",
        "outputId": "bd78e0ac-da4f-4de7-84e4-1a06aaf05af8"
      },
      "outputs": [
        {
          "output_type": "stream",
          "name": "stdout",
          "text": [
            "char2index:\n",
            "{'\\n': 0, '\\r': 1, ' ': 2, '!': 3, '\"': 4, '#': 5, '$': 6, '%': 7, '&': 8, \"'\": 9, '(': 10, ')': 11, '*': 12, '+': 13, ',': 14, '-': 15, '.': 16, '/': 17, '0': 18, '1': 19, '2': 20, '3': 21, '4': 22, '5': 23, '6': 24, '7': 25, '8': 26, '9': 27, ':': 28, ';': 29, '=': 30, '?': 31, '@': 32, 'A': 33, 'B': 34, 'C': 35, 'D': 36, 'E': 37, 'F': 38, 'G': 39, 'H': 40, 'I': 41, 'J': 42, 'K': 43, 'L': 44, 'M': 45, 'N': 46, 'O': 47, 'P': 48, 'Q': 49, 'R': 50, 'S': 51, 'T': 52, 'U': 53, 'V': 54, 'W': 55, 'X': 56, 'Y': 57, 'Z': 58, '[': 59, ']': 60, '^': 61, '_': 62, '`': 63, 'a': 64, 'b': 65, 'c': 66, 'd': 67, 'e': 68, 'f': 69, 'g': 70, 'h': 71, 'i': 72, 'j': 73, 'k': 74, 'l': 75, 'm': 76, 'n': 77, 'o': 78, 'p': 79, 'q': 80, 'r': 81, 's': 82, 't': 83, 'u': 84, 'v': 85, 'w': 86, 'x': 87, 'y': 88, 'z': 89, '|': 90, '~': 91, '§': 92, '°': 93, '´': 94, '»': 95, 'Ä': 96, 'Å': 97, 'É': 98, 'Ö': 99, 'Ü': 100, 'à': 101, 'á': 102, 'â': 103, 'ä': 104, 'å': 105, 'æ': 106, 'ç': 107, 'è': 108, 'é': 109, 'ê': 110, 'ë': 111, 'î': 112, 'ï': 113, 'ó': 114, 'ô': 115, 'ö': 116, 'û': 117, 'ü': 118}\n",
            "\n",
            "index2char:\n",
            "['\\n' '\\r' ' ' '!' '\"' '#' '$' '%' '&' \"'\" '(' ')' '*' '+' ',' '-' '.' '/'\n",
            " '0' '1' '2' '3' '4' '5' '6' '7' '8' '9' ':' ';' '=' '?' '@' 'A' 'B' 'C'\n",
            " 'D' 'E' 'F' 'G' 'H' 'I' 'J' 'K' 'L' 'M' 'N' 'O' 'P' 'Q' 'R' 'S' 'T' 'U'\n",
            " 'V' 'W' 'X' 'Y' 'Z' '[' ']' '^' '_' '`' 'a' 'b' 'c' 'd' 'e' 'f' 'g' 'h'\n",
            " 'i' 'j' 'k' 'l' 'm' 'n' 'o' 'p' 'q' 'r' 's' 't' 'u' 'v' 'w' 'x' 'y' 'z'\n",
            " '|' '~' '§' '°' '´' '»' 'Ä' 'Å' 'É' 'Ö' 'Ü' 'à' 'á' 'â' 'ä' 'å' 'æ' 'ç'\n",
            " 'è' 'é' 'ê' 'ë' 'î' 'ï' 'ó' 'ô' 'ö' 'û' 'ü']\n"
          ]
        }
      ],
      "source": [
        "# Char to int mapping dict\n",
        "char2index = {char: idx for idx, char in enumerate(vocab)}\n",
        "\n",
        "# Other direction: index to char, array\n",
        "index2char = np.array(vocab)\n",
        "\n",
        "print(\"char2index:\")\n",
        "print(char2index)\n",
        "\n",
        "print(\"\\nindex2char:\")\n",
        "print(index2char)"
      ]
    },
    {
      "cell_type": "code",
      "source": [
        "# Give the character for index 51 --> 'S'\n",
        "index2char[51]"
      ],
      "metadata": {
        "colab": {
          "base_uri": "https://localhost:8080/",
          "height": 36
        },
        "id": "pcTy7sfXpYsK",
        "outputId": "5b76dc4d-0b95-44e6-c2fb-e0debc6461bf"
      },
      "execution_count": 22,
      "outputs": [
        {
          "output_type": "execute_result",
          "data": {
            "application/vnd.google.colaboratory.intrinsic+json": {
              "type": "string"
            },
            "text/plain": [
              "'S'"
            ]
          },
          "metadata": {},
          "execution_count": 22
        }
      ]
    },
    {
      "cell_type": "code",
      "execution_count": 23,
      "metadata": {
        "colab": {
          "base_uri": "https://localhost:8080/"
        },
        "id": "DXUAlYmvN_Rj",
        "outputId": "5d89fd2a-ee45-4cf6-dc8b-e575c0fc34c9"
      },
      "outputs": [
        {
          "output_type": "stream",
          "name": "stdout",
          "text": [
            "Length of text_as_ints: 16574590 \n",
            "\n",
            "\"Ett'ei tämä pahe nyt suinkaan\\r\" \n",
            "-->\n",
            " [ 37  83  83   9  68  72   2  83 104  76 104   2  79  64  71  68   2  77\n",
            "  88  83   2  82  84  72  77  74  64  64  77   1]\n"
          ]
        }
      ],
      "source": [
        "# Convert chars in text to corresponding indices.\n",
        "# We need to support int values up to ~120. So np.int16 is enough\n",
        "# I havent tested if this makes processing more efficient, but it could be\n",
        "text_as_ints = np.array([char2index[char] for char in text], dtype=np.int16)\n",
        "\n",
        "print(\"Length of text_as_ints:\", len(text_as_ints), \"\\n\")\n",
        "assert len(text_as_ints) == len(text)\n",
        "\n",
        "print(f\"{repr(text[19990:20020])} \\n-->\\n {text_as_ints[19990:20020]}\")"
      ]
    },
    {
      "cell_type": "markdown",
      "metadata": {
        "id": "CHv5HhUuTQYS"
      },
      "source": [
        "## Create training sequences"
      ]
    },
    {
      "cell_type": "code",
      "execution_count": 24,
      "metadata": {
        "colab": {
          "base_uri": "https://localhost:8080/"
        },
        "id": "9tHT8IXGTTtZ",
        "outputId": "c275eb46-ab54-4f27-d1fa-7a5c26c13953"
      },
      "outputs": [
        {
          "output_type": "stream",
          "name": "stdout",
          "text": [
            "sequences per epoch: 164104\n"
          ]
        }
      ],
      "source": [
        "# The maximum length sequence for the input, in characters.\n",
        "SEQ_LEN = 100\n",
        "sequences_per_epoch = len(text) // (SEQ_LEN + 1)  # Full sequences... Remainder to be discarded\n",
        "# plus one due to the lag operation (to be seen later)\n",
        "\n",
        "print('sequences per epoch:', sequences_per_epoch)"
      ]
    },
    {
      "cell_type": "code",
      "execution_count": 25,
      "metadata": {
        "colab": {
          "base_uri": "https://localhost:8080/"
        },
        "id": "Pf5tMMDnUP3q",
        "outputId": "f6d9a48b-1358-491f-9d38-3ba72bac2745"
      },
      "outputs": [
        {
          "output_type": "execute_result",
          "data": {
            "text/plain": [
              "<TensorSliceDataset shapes: (), types: tf.int16>"
            ]
          },
          "metadata": {},
          "execution_count": 25
        }
      ],
      "source": [
        "# Create training tf dataset\n",
        "char_dataset = tf.data.Dataset.from_tensor_slices(text_as_ints)\n",
        "\n",
        "char_dataset  # now the dtype is with less bits!"
      ]
    },
    {
      "cell_type": "code",
      "source": [
        "tmp_indices = []\n",
        "tmp_chars = []\n",
        "for idx in char_dataset.take(65):\n",
        "  tmp_indices.append(idx.numpy())\n",
        "  tmp_chars.append(index2char[idx])\n",
        "\n",
        "print(\"Indices:\")\n",
        "print(tmp_indices)\n",
        "\n",
        "print(\"\\nSame as character sequence:\")\n",
        "print(\"\".join(tmp_chars))"
      ],
      "metadata": {
        "colab": {
          "base_uri": "https://localhost:8080/"
        },
        "id": "KW6zLiEDpuhx",
        "outputId": "0f9a2b4d-d95c-4795-dad6-fc7f6bcf314f"
      },
      "execution_count": 26,
      "outputs": [
        {
          "output_type": "stream",
          "name": "stdout",
          "text": [
            "Indices:\n",
            "[44, 104, 71, 83, 116, 2, 48, 72, 68, 83, 64, 81, 72, 82, 83, 64, 16, 2, 15, 15, 2, 52, 64, 79, 64, 64, 1, 0, 51, 77, 68, 75, 75, 76, 64, 77, 77, 72, 77, 2, 34, 68, 81, 75, 72, 72, 77, 72, 82, 82, 104, 16, 2, 15, 15, 2, 45, 72, 68, 83, 83, 68, 72, 83, 104]\n",
            "\n",
            "Same as character sequence:\n",
            "Lähtö Pietarista. -- Tapaa\r\n",
            "Snellmannin Berliinissä. -- Mietteitä\n"
          ]
        }
      ]
    },
    {
      "cell_type": "code",
      "execution_count": 27,
      "metadata": {
        "colab": {
          "base_uri": "https://localhost:8080/"
        },
        "id": "Ap71VjB2Vuct",
        "outputId": "7583b433-9247-45f5-9e17-6926203bb5bd"
      },
      "outputs": [
        {
          "output_type": "stream",
          "name": "stdout",
          "text": [
            "Sequences count: 164104\n"
          ]
        }
      ],
      "source": [
        "# Batch characters to form sequences.\n",
        "sequences = char_dataset.batch(SEQ_LEN + 1, drop_remainder=True)\n",
        "\n",
        "# Sequences size is the same as sequences_per_epoch.\n",
        "print(f\"Sequences count: {len(list(sequences.as_numpy_iterator()))}\")  # pretty heavy op"
      ]
    },
    {
      "cell_type": "code",
      "source": [
        "# How to convert many indices to corresponding chars?\n",
        "# Index index2char with a numpy array!\n",
        "# index2char[np.array of the indices]\n",
        "# Like so:\n",
        "index2char[np.array([55, 66, 77, 88, 99])]"
      ],
      "metadata": {
        "colab": {
          "base_uri": "https://localhost:8080/"
        },
        "id": "_Sf33UnwxFOd",
        "outputId": "b3c3b8d6-c07e-479b-fc6e-f4ed8edba6df"
      },
      "execution_count": 28,
      "outputs": [
        {
          "output_type": "execute_result",
          "data": {
            "text/plain": [
              "array(['W', 'c', 'n', 'y', 'Ö'], dtype='<U1')"
            ]
          },
          "metadata": {},
          "execution_count": 28
        }
      ]
    },
    {
      "cell_type": "code",
      "source": [
        "# Sequence examples\n",
        "for i, indices in enumerate(sequences.take(5)):\n",
        "  print(\"\\nSample\", i, \":\")\n",
        "  print(\"\".join(index2char[indices.numpy()]))"
      ],
      "metadata": {
        "colab": {
          "base_uri": "https://localhost:8080/"
        },
        "id": "_2CNnUHPw621",
        "outputId": "4352d93f-75a6-4bea-9c1a-d01b17d7d06d"
      },
      "execution_count": 29,
      "outputs": [
        {
          "output_type": "stream",
          "name": "stdout",
          "text": [
            "\n",
            "Sample 0 :\n",
            "Lähtö Pietarista. -- Tapaa\r\n",
            "Snellmannin Berliinissä. -- Mietteitä Suomen tulevaisuudesta. --\r\n",
            "Sairaut\n",
            "\n",
            "Sample 1 :\n",
            "ta ja alakuloisuutta. -- \"Sydänjuuret ovat katkenneet.\" --\r\n",
            "Magdeburgin tuomiokirkko. -- Gosslar. -- \n",
            "\n",
            "Sample 2 :\n",
            "Tulo Giesseniin ja Justus\r\n",
            "Liebig, -- Työskentelyä laboratoriossa. -- Selontekoa Liebigin\r\n",
            "metoodeist\n",
            "\n",
            "Sample 3 :\n",
            "a. -- \"Louis Philippe ist entflohen!\"\r\n",
            "\r\n",
            "6. _Vallankumous 1848_. Vallankumous Pariisissa ja Berliinis\n",
            "\n",
            "Sample 4 :\n",
            "sä. --\r\n",
            "Mielentila ennen Pariisiin lähtöä. -- Selonteko ulkonaisista ja\r\n",
            "sisäisistä syistä matkalle l\n"
          ]
        }
      ]
    },
    {
      "cell_type": "markdown",
      "source": [
        "So, each sequence (batch of ints) has length of 101 (that map to chars).\n",
        "\n",
        "And we have 164323 of such sequences. These sequences are contiguous blocks, not overlapping."
      ],
      "metadata": {
        "id": "R9UaeYHcxo8a"
      }
    },
    {
      "cell_type": "markdown",
      "metadata": {
        "id": "HdcrcUs4Xxso"
      },
      "source": [
        "**What is the input and the target?**\n",
        "\n",
        "From each sequence, form the input (X) sequence and target (y) sequence so that these are the same sequence with one shifted by one \"time step\".\n",
        "\n",
        "The target is basically the next character.\n",
        "\n",
        "For example, say `sequence_length` is `4` and input text is `Hello` (`seq_len + 1`). The input sequence would be `Hell`, and the target sequence `ello`.\n",
        "\n",
        "We are basically doing next character prediction."
      ]
    },
    {
      "cell_type": "code",
      "execution_count": 30,
      "metadata": {
        "id": "9fxvXsP0XFDh"
      },
      "outputs": [],
      "source": [
        "def split_input_target(seq):\n",
        "  return seq[:-1], seq[1:]  \n",
        "  # we needed to have the sequence_len + 1 of text because we kind of lose one char here"
      ]
    },
    {
      "cell_type": "code",
      "execution_count": 31,
      "metadata": {
        "id": "454rWIQYXXRY"
      },
      "outputs": [],
      "source": [
        "dataset = sequences.map(split_input_target, \n",
        "                        num_parallel_calls=tf.data.AUTOTUNE)\n",
        "\n",
        "# Dataset size is still the sequences_per_epoch.\n",
        "# Now the individual elements are of size SEQ_LEN (no more with the plus one)"
      ]
    },
    {
      "cell_type": "code",
      "execution_count": 32,
      "metadata": {
        "colab": {
          "base_uri": "https://localhost:8080/"
        },
        "id": "Kuoh4tCdYCck",
        "outputId": "05941449-4e13-4ce7-8145-5b17af1906e7"
      },
      "outputs": [
        {
          "output_type": "stream",
          "name": "stdout",
          "text": [
            "Input seq size: 100\n",
            "Target seq size: 100\n",
            "\n",
            "INPUT:\n",
            "Lähtö Pietarista. -- Tapaa\r\n",
            "Snellmannin Berliinissä. -- Mietteitä Suomen tulevaisuudesta. --\r\n",
            "Sairau\n",
            "\n",
            "TARGET:\n",
            "ähtö Pietarista. -- Tapaa\r\n",
            "Snellmannin Berliinissä. -- Mietteitä Suomen tulevaisuudesta. --\r\n",
            "Sairaut\n"
          ]
        }
      ],
      "source": [
        "for input_example, target_example in dataset.take(1):\n",
        "    print('Input seq size:', len(input_example.numpy()))\n",
        "    print('Target seq size:', len(target_example.numpy()))\n",
        "    print()\n",
        "    print(\"INPUT:\")\n",
        "    print(\"\".join(index2char[input_example.numpy()]))\n",
        "    print()\n",
        "    print(\"TARGET:\")\n",
        "    print(\"\".join(index2char[target_example.numpy()]))"
      ]
    },
    {
      "cell_type": "code",
      "execution_count": 33,
      "metadata": {
        "id": "cp0tl0sN807l"
      },
      "outputs": [],
      "source": [
        "# dataset shape info:\n",
        "# - 164323 sequences\n",
        "# - Each sequence is a tuple of 2 sub-seqs of length 100 (input_text_ints and target_text_ints)\n",
        "#\n",
        "#\n",
        "#    100       100           100\n",
        "# /(.....)\\ /(.....)\\ ... /(.....)\\  <-- input_text\n",
        "# \\(.....)/ \\(.....)/     \\(.....)/  <-- target_text\n",
        "#\n",
        "# <----------- 164323 ------------->"
      ]
    },
    {
      "cell_type": "markdown",
      "metadata": {
        "id": "BDYHEJ0pY1ai"
      },
      "source": [
        "Each index of these vectors are processed as one time step. For the input at time step 0, the model receives the index for the first char and tries to predict the index of the next char. At the next timestep, it does the same thing but the RNN considers the previous step **context** in addition to the current input character.\n",
        "\n",
        "Hmm. The start of the sequence might be a bit problematic, without the prior context. Check out ways to work around this."
      ]
    },
    {
      "cell_type": "code",
      "execution_count": 34,
      "metadata": {
        "colab": {
          "base_uri": "https://localhost:8080/"
        },
        "id": "C-0zpv53Y2o4",
        "outputId": "f9476f2c-7df8-40c8-e8c8-288d3b2c44c5"
      },
      "outputs": [
        {
          "output_type": "stream",
          "name": "stdout",
          "text": [
            "Step 0\n",
            "  input: 44 (L)\n",
            "  expected output: 104 (ä)\n",
            "Step 1\n",
            "  input: 104 (ä)\n",
            "  expected output: 71 (h)\n",
            "Step 2\n",
            "  input: 71 (h)\n",
            "  expected output: 83 (t)\n",
            "Step 3\n",
            "  input: 83 (t)\n",
            "  expected output: 116 (ö)\n",
            "Step 4\n",
            "  input: 116 (ö)\n",
            "  expected output: 2 ( )\n"
          ]
        }
      ],
      "source": [
        "for i, (input_idx, target_idx) in enumerate(zip(input_example[:5], target_example[:5])):\n",
        "    print(f'Step {i}')\n",
        "    print(f'  input: {input_idx} ({index2char[input_idx]})')\n",
        "    print(f'  expected output: {target_idx} ({index2char[target_idx]})')"
      ]
    },
    {
      "cell_type": "markdown",
      "metadata": {
        "id": "1iDlp40lC5YB"
      },
      "source": [
        "## Split training sequences into batches\n",
        "\n",
        "We used `tf.data` to split the text into manageable sequences. But before feeding this data into the model, we need to shuffle the data and pack it into batches."
      ]
    },
    {
      "cell_type": "code",
      "execution_count": 35,
      "metadata": {
        "colab": {
          "base_uri": "https://localhost:8080/"
        },
        "id": "eDq-wa5EC3wW",
        "outputId": "556eabf8-df27-4492-9f77-651fcc10cd92"
      },
      "outputs": [
        {
          "output_type": "execute_result",
          "data": {
            "text/plain": [
              "<PrefetchDataset shapes: ((64, 100), (64, 100)), types: (tf.int16, tf.int16)>"
            ]
          },
          "metadata": {},
          "execution_count": 35
        }
      ],
      "source": [
        "# Batch size\n",
        "BATCH_SIZE = 64\n",
        "\n",
        "# Buffer size to shuffle the dataset (TF data maintains a buffer where it shuffles elements - does not shuffle the whole dataset!).\n",
        "BUFFER_SIZE = 10000\n",
        "\n",
        "dataset = dataset.shuffle(BUFFER_SIZE)\\\n",
        "            .batch(BATCH_SIZE, drop_remainder=True)\\\n",
        "            .prefetch(tf.data.AUTOTUNE)  # added prefetch\n",
        "\n",
        "dataset"
      ]
    },
    {
      "cell_type": "code",
      "execution_count": 36,
      "metadata": {
        "colab": {
          "base_uri": "https://localhost:8080/"
        },
        "id": "1x4puZiiOlyl",
        "outputId": "6cd5efb4-4abd-421f-94e1-acbe26eab55e"
      },
      "outputs": [
        {
          "output_type": "stream",
          "name": "stdout",
          "text": [
            "Batched dataset size: 2564\n"
          ]
        }
      ],
      "source": [
        "print('Batched dataset size: {}'.format(len(list(dataset.as_numpy_iterator()))))"
      ]
    },
    {
      "cell_type": "code",
      "execution_count": 37,
      "metadata": {
        "colab": {
          "base_uri": "https://localhost:8080/"
        },
        "id": "b_kYgvQGBO0U",
        "outputId": "44868b9c-b376-42c1-d741-8fb03288c702"
      },
      "outputs": [
        {
          "output_type": "stream",
          "name": "stdout",
          "text": [
            "1st batch: input_text: tf.Tensor(\n",
            "[[ 14   2  78 ...  72  83  83]\n",
            " [104   2  68 ...  83  14   1]\n",
            " [  2  62  77 ...  78  75  72]\n",
            " ...\n",
            " [ 78  72   2 ...  72  74 104]\n",
            " [ 77  68  77 ...  82  72  82]\n",
            " [  9   1   0 ...  83  64   2]], shape=(64, 100), dtype=int16)\n",
            "\n",
            "1st batch: target_text: tf.Tensor(\n",
            "[[  2  78  82 ...  83  83 116]\n",
            " [  2  68  77 ...  14   1   0]\n",
            " [ 62  77  84 ...  75  72  82]\n",
            " ...\n",
            " [ 72   2  71 ...  74 104 104]\n",
            " [ 68  77   2 ...  72  82 104]\n",
            " [  1   0  73 ...  64   2  78]], shape=(64, 100), dtype=int16)\n"
          ]
        }
      ],
      "source": [
        "for input_text, target_text in dataset.take(1):\n",
        "    print('1st batch: input_text:', input_text)\n",
        "    print('\\n1st batch: target_text:', target_text)"
      ]
    },
    {
      "cell_type": "code",
      "execution_count": 38,
      "metadata": {
        "id": "UkDCH15v_2I6"
      },
      "outputs": [],
      "source": [
        "# dataset shape info:\n",
        "# - 2567 batches\n",
        "# - 64 sequences per batch\n",
        "# - Each sequence is a tuple of 2 sub-sequences of length 100 (input_text_ints and target_text_ints)\n",
        "#\n",
        "#\n",
        "#     100       100           100             100       100           100\n",
        "# |/(.....)\\ /(.....)\\ ... /(.....)\\| ... |/(.....)\\ /(.....)\\ ... /(.....)\\|  <-- input_text\n",
        "# |\\(.....)/ \\(.....)/     \\(.....)/| ... |\\(.....)/ \\(.....)/     \\(.....)/|  <-- target_text\n",
        "#\n",
        "# <------------- 64 ---------------->     <------------- 64 ---------------->\n",
        "#\n",
        "# <----------------------- 2567 batches of size 64 ------------------------->"
      ]
    },
    {
      "cell_type": "markdown",
      "metadata": {
        "id": "ghB-VwLlD-Oz"
      },
      "source": [
        "## Build the model\n",
        "\n",
        "Keras Sequential model with, for simplicity, just three layers:\n",
        "\n",
        "- [tf.keras.layers.Embedding](https://www.tensorflow.org/api_docs/python/tf/keras/layers/Embedding): The input layer. A trainable/learnable lookup table that maps the numbers (indices) of each character to a vector with `EMBEDDING_SIZE` dimensions;\n",
        "- [tf.keras.layers.LSTM](https://www.tensorflow.org/api_docs/python/tf/keras/layers/LSTM): A type of RNN with size (units) of RNN_UNITS.\n",
        "- [tf.keras.layers.Dense](https://www.tensorflow.org/api_docs/python/tf/keras/layers/Dense): The output layer, with vocab_size outputs, so separate output for each character we have."
      ]
    },
    {
      "cell_type": "code",
      "execution_count": 39,
      "metadata": {
        "id": "I7ZuvZHBD_pS"
      },
      "outputs": [],
      "source": [
        "# Length of the vocabulary in chars (unique chars)\n",
        "vocab_size = len(vocab)\n",
        "\n",
        "# The embedding size\n",
        "EMBEDDING_SIZE = 256\n",
        "\n",
        "# Number of RNN units.\n",
        "RNN_UNITS = 1024"
      ]
    },
    {
      "cell_type": "code",
      "source": [
        "# MODEL_BASE_NAME = \"aho_rnn\"  # Not yet used"
      ],
      "metadata": {
        "id": "8aSug9sSIODc"
      },
      "execution_count": 40,
      "outputs": []
    },
    {
      "cell_type": "markdown",
      "source": [
        "## Setup model checkpoints"
      ],
      "metadata": {
        "id": "cH2wTmLCIOkP"
      }
    },
    {
      "cell_type": "code",
      "source": [
        "# Directory where the checkpoints will be saved\n",
        "# Store to Google Drive\n",
        "\n",
        "checkpoint_dir = \"/content/gdrive/MyDrive/colab/finnish_rnn_model/aho\"\n",
        "os.makedirs(checkpoint_dir, exist_ok=True)\n",
        "\n",
        "# Name of the checkpoint files\n",
        "checkpoint_prefix = os.path.join(checkpoint_dir, 'aho_ckpt')  # just keep overwriting this\n",
        "\n",
        "checkpoint_callback=tf.keras.callbacks.ModelCheckpoint(\n",
        "  filepath=checkpoint_prefix,\n",
        "  save_weights_only=True,\n",
        "  save_best_only=True,\n",
        "  monitor=\"loss\",\n",
        "  verbose=1\n",
        "  )"
      ],
      "metadata": {
        "id": "wqwV_dQ7IGba"
      },
      "execution_count": 41,
      "outputs": []
    },
    {
      "cell_type": "code",
      "execution_count": 42,
      "metadata": {
        "id": "-sojdDCAICWO"
      },
      "outputs": [],
      "source": [
        "def build_model(vocab_size, embedding_dim, rnn_units, batch_size,\n",
        "                use_checkpoint=True, checkpoint_dir=checkpoint_dir):\n",
        "  \n",
        "  model = tf.keras.models.Sequential()\n",
        "\n",
        "  # Add embedding layer for lookups\n",
        "  # This takes a batch/sequence of char indices and encodes each of them to a vector of size embedding_dim\n",
        "  # These vector representations are learned.\n",
        "  # Basically it replaces the single index with a vector, thus adding a new dimension to the data\n",
        "  model.add(tf.keras.layers.Embedding(\n",
        "    input_dim=vocab_size,\n",
        "    output_dim=embedding_dim,\n",
        "    batch_input_shape=[batch_size, None]  \n",
        "    # batch_size of samples, each having some number of indices (i.e. None). which is 100 in this case\n",
        "  ))\n",
        "\n",
        "  # Add LSTM layer\n",
        "  model.add(tf.keras.layers.LSTM(\n",
        "    units=rnn_units,\n",
        "    return_sequences=True,\n",
        "    stateful=True,\n",
        "    recurrent_initializer=tf.keras.initializers.GlorotNormal()\n",
        "  ))\n",
        "\n",
        "  # Add Dense output layer\n",
        "  # No activation function specified, so just linear f(x)=x will be used\n",
        "  # as output, we get \"logits\", these unscaled outputs that are not probabilities\n",
        "  # These will be handled to the loss function.\n",
        "  model.add(tf.keras.layers.Dense(vocab_size))\n",
        "\n",
        "\n",
        "  if use_checkpoint:\n",
        "    print(\"Trying to use checkpointed weights...\")\n",
        "    try:\n",
        "      print(\"Latest checkpoint:\", tf.train.latest_checkpoint(checkpoint_dir))\n",
        "      model.load_weights(tf.train.latest_checkpoint(checkpoint_dir))\n",
        "      print(\"Checkpointed weights loaded! Returning model with those.\")\n",
        "      return model\n",
        "\n",
        "    except:\n",
        "      print(\"*** Failed to load checkpoint! ***\")\n",
        "\n",
        "  print(\"Model instantiated from scratch!\") \n",
        "  return model\n"
      ]
    },
    {
      "cell_type": "code",
      "execution_count": 43,
      "metadata": {
        "id": "XoPwxyAPEg6z",
        "colab": {
          "base_uri": "https://localhost:8080/"
        },
        "outputId": "e3d918ac-f428-4a8b-8c5f-729f31826d74"
      },
      "outputs": [
        {
          "output_type": "stream",
          "name": "stdout",
          "text": [
            "Trying to use checkpointed weights...\n",
            "Latest checkpoint: /content/gdrive/MyDrive/colab/finnish_rnn_model/aho/aho_ckpt\n",
            "Checkpointed weights loaded! Returning model with those.\n"
          ]
        }
      ],
      "source": [
        "model = build_model(vocab_size, EMBEDDING_SIZE, RNN_UNITS, BATCH_SIZE, use_checkpoint=True)"
      ]
    },
    {
      "cell_type": "code",
      "execution_count": 44,
      "metadata": {
        "colab": {
          "base_uri": "https://localhost:8080/"
        },
        "id": "iLnlZFgU55bQ",
        "outputId": "f43ec9f2-2afa-4195-8782-1a87a35f3866"
      },
      "outputs": [
        {
          "output_type": "stream",
          "name": "stdout",
          "text": [
            "Model: \"sequential\"\n",
            "_________________________________________________________________\n",
            " Layer (type)                Output Shape              Param #   \n",
            "=================================================================\n",
            " embedding (Embedding)       (64, None, 256)           30464     \n",
            "                                                                 \n",
            " lstm (LSTM)                 (64, None, 1024)          5246976   \n",
            "                                                                 \n",
            " dense (Dense)               (64, None, 119)           121975    \n",
            "                                                                 \n",
            "=================================================================\n",
            "Total params: 5,399,415\n",
            "Trainable params: 5,399,415\n",
            "Non-trainable params: 0\n",
            "_________________________________________________________________\n"
          ]
        }
      ],
      "source": [
        "model.summary()"
      ]
    },
    {
      "cell_type": "code",
      "execution_count": 45,
      "metadata": {
        "colab": {
          "base_uri": "https://localhost:8080/",
          "height": 422
        },
        "id": "CcaO_rO_8-GH",
        "outputId": "d873e178-2637-45cb-9631-b95e90d90d3e"
      },
      "outputs": [
        {
          "output_type": "execute_result",
          "data": {
            "image/png": "[encoded data removed]",
            "text/plain": [
              "<IPython.core.display.Image object>"
            ]
          },
          "metadata": {},
          "execution_count": 45
        }
      ],
      "source": [
        "tf.keras.utils.plot_model(\n",
        "    model,\n",
        "    show_shapes=True,\n",
        "    show_layer_names=True,\n",
        ")"
      ]
    },
    {
      "cell_type": "markdown",
      "metadata": {
        "id": "JpL9idwZV6fL"
      },
      "source": [
        "For each character the model looks up the embedding, runs the LSTM one timestep with the embedding as input, and applies the dense layer to generate logits predicting the log-likelihood of the next character:\n",
        "\n",
        "So the model architecture is pretty much like this (with a LSTM instead of a GRU)\n",
        "\n",
        "![Model architecture is pretty much like this](https://www.tensorflow.org/text/tutorials/images/text_generation_training.png)\n",
        "\n",
        "Image source: [Text generation with an RNN](https://www.tensorflow.org/tutorials/text/text_generation) tensorflow notebook."
      ]
    },
    {
      "cell_type": "markdown",
      "metadata": {
        "id": "Npruiy2RAPkt"
      },
      "source": [
        "## Try the model"
      ]
    },
    {
      "cell_type": "code",
      "execution_count": 46,
      "metadata": {
        "colab": {
          "base_uri": "https://localhost:8080/"
        },
        "id": "E4DCLA0GASL1",
        "outputId": "0addb763-5d33-47ff-e3d9-e3e82c7c921a"
      },
      "outputs": [
        {
          "output_type": "stream",
          "name": "stdout",
          "text": [
            "(64, 100, 119) # (batch_size, sequence_length, vocab_size)\n"
          ]
        }
      ],
      "source": [
        "for input_example_batch, target_example_batch in dataset.take(1):\n",
        "    example_batch_predictions = model(input_example_batch)\n",
        "    print(example_batch_predictions.shape, \"# (batch_size, sequence_length, vocab_size)\")\n"
      ]
    },
    {
      "cell_type": "markdown",
      "metadata": {
        "id": "MWebJXU9CEPd"
      },
      "source": [
        "To get actual predictions from the model we need to sample from the output distribution, to get actual character indices. This distribution is defined by the logits over the character vocabulary."
      ]
    },
    {
      "cell_type": "code",
      "execution_count": 47,
      "metadata": {
        "colab": {
          "base_uri": "https://localhost:8080/"
        },
        "id": "Y4Jgo-iECFWI",
        "outputId": "e4e7b195-5c5f-48ed-894f-a5ed4347719a"
      },
      "outputs": [
        {
          "output_type": "stream",
          "name": "stdout",
          "text": [
            "Prediction for the 1st letter of the 1st seq of the batch:\n",
            "tf.Tensor(\n",
            "[-3.1666145  -0.8723457  -0.01703613  0.19566384 -2.1286771  -3.1238601\n",
            " -3.6697478  -0.525686   -4.6146107  -0.2751884  -2.4308581  -0.36640748\n",
            "  2.0779686  -2.4796743  -0.8802164  -0.66100544  0.24023817 -1.0117773\n",
            " -1.7350986   1.5698717  -3.5391119  -2.254868   -7.2348766  -2.062508\n",
            " -1.9656523  -1.6554788  -2.4508333  -5.4973087  -1.1845078  -0.8455001\n",
            "  2.1853967  -1.1581737  -2.7066653  -5.616008   -0.2450563  -0.49664906\n",
            " -1.0963391  -7.43414    -3.1334136  -3.4094634  -3.8318312  -5.3125033\n",
            " -3.3406293  -2.0128956  -7.8625226   0.7230447  -3.9407325  -4.542228\n",
            " -3.5998945  -1.6302832  -5.4957113  -1.0985004  -2.3944192  -3.8023658\n",
            " -1.8234956  -0.78201926  0.8183851  -4.9354134  -6.996236   -3.8578866\n",
            " -4.4201627  -2.2134845  -1.9241205  -1.8560499  -0.64368594 -4.9154387\n",
            "  1.0162969   1.7083106  -0.46896595 -0.12846515 -2.261829   -0.30234057\n",
            " -0.7077283   2.5388997  -0.5955181   1.5677028   0.98217845  3.549984\n",
            " -2.7208009   1.1954138  -0.14768592 -1.1698439  -1.2710748   5.142172\n",
            " -0.26405084  1.2681974  -0.20780596 -2.0706625  -0.17975013 -1.8677808\n",
            " -0.80776674  0.88405794 -4.168836   -3.1383967  -2.3707793  -2.1060693\n",
            " -4.9008927  -8.155003   -7.002325   -5.328193   -0.7455301  -6.72896\n",
            " -3.6032834  -3.7075381   1.0116038  -8.76143    -4.3575287  -3.937765\n",
            " -9.456324   -6.153514   -3.3700523   0.26938966 -6.5095267  -0.58768463\n",
            " -1.7320238  -3.0533106  -3.1456702  -3.8693833  -6.2418675 ], shape=(119,), dtype=float32)\n",
            "\n",
            "These are unscaled output, i.e. logits, not probs. Check e.g. their sum (not 1): -264.53705\n"
          ]
        }
      ],
      "source": [
        "print(\"Prediction for the 1st letter of the 1st seq of the batch:\")\n",
        "print(example_batch_predictions[0, 0])  # first sequence, first character\n",
        "\n",
        "print(\"\\nThese are unscaled output, i.e. logits, not probs. Check e.g. their sum (not 1):\", example_batch_predictions[0, 0].numpy().sum())"
      ]
    },
    {
      "cell_type": "code",
      "execution_count": 48,
      "metadata": {
        "colab": {
          "base_uri": "https://localhost:8080/"
        },
        "id": "0dOr0MwFHlRb",
        "outputId": "cc594682-a04a-4f2c-fb0c-434c64ce71da"
      },
      "outputs": [
        {
          "output_type": "stream",
          "name": "stdout",
          "text": [
            "tf.Tensor([[2 2 2 2 1]], shape=(1, 5), dtype=int64)\n"
          ]
        }
      ],
      "source": [
        "# Quick overview of how tf.random.categorical() works.\n",
        "\n",
        "# logits is 2-D Tensor with shape [batch_size, num_classes].\n",
        "# Each slice [i, :] represents the unnormalized log-probabilities for all classes.\n",
        "# In the example below we say that the probability for class \"0\" is low but the\n",
        "# probability for class \"2\" is much higher.\n",
        "tmp_logits = [\n",
        "  [-0.95, 0, 0.95],\n",
        "];\n",
        "\n",
        "# Let's generate 5 samples. Each sample is a class index. Class probabilities \n",
        "# are being taken into account (we expect to see more samples of class \"2\").\n",
        "tmp_samples = tf.random.categorical(\n",
        "    logits=tmp_logits,\n",
        "    num_samples=5\n",
        ")\n",
        "\n",
        "print(tmp_samples)"
      ]
    },
    {
      "cell_type": "code",
      "execution_count": 49,
      "metadata": {
        "colab": {
          "base_uri": "https://localhost:8080/"
        },
        "id": "JPzr0r4zCgS3",
        "outputId": "16b28789-ffc4-41c1-c16b-aab3b5afcbfa"
      },
      "outputs": [
        {
          "output_type": "execute_result",
          "data": {
            "text/plain": [
              "TensorShape([100, 1])"
            ]
          },
          "metadata": {},
          "execution_count": 49
        }
      ],
      "source": [
        "sampled_indices = tf.random.categorical(\n",
        "    logits=example_batch_predictions[0],  # first sequence of the batch, all 100 characters\n",
        "    num_samples=1\n",
        ")\n",
        "\n",
        "sampled_indices.shape"
      ]
    },
    {
      "cell_type": "code",
      "execution_count": 50,
      "metadata": {
        "colab": {
          "base_uri": "https://localhost:8080/"
        },
        "id": "YaA7DclID8dz",
        "outputId": "255fd354-db6c-486a-e3bd-1707716787c3"
      },
      "outputs": [
        {
          "output_type": "execute_result",
          "data": {
            "text/plain": [
              "(100,)"
            ]
          },
          "metadata": {},
          "execution_count": 50
        }
      ],
      "source": [
        "sampled_indices = tf.squeeze(\n",
        "    input=sampled_indices,\n",
        "    axis=-1\n",
        ").numpy()\n",
        "\n",
        "sampled_indices.shape"
      ]
    },
    {
      "cell_type": "code",
      "execution_count": 51,
      "metadata": {
        "colab": {
          "base_uri": "https://localhost:8080/"
        },
        "id": "_ubGQ0gVENhB",
        "outputId": "b2d275a3-a673-4385-88fc-2917c5d88e57"
      },
      "outputs": [
        {
          "output_type": "execute_result",
          "data": {
            "text/plain": [
              "array([ 77,  88,   2,  76,  84,  74,  82,  75,   2,  76,  84,  77,  77,\n",
              "        68,  77,  74,  72,  77,  16,  82,  84,  76,  64,  77,  74,  78,\n",
              "        74,   2,  82,  78,  74,  64,   2,  78,  84,  81,  83,  68, 104,\n",
              "         2,   2,   2,  77,  64,  77,  78,  72,   1,  72,  82, 104,  14,\n",
              "        16,  51, 104,  72,  77,   2,   0,  76,  72,  72,  77,  71,  64,\n",
              "        71,  83,  77,  83, 104,   2,  76,  75,  75,  64,   2,  85,  68,\n",
              "        85,  83,  88,  83,  82,  72,   2,  82,  72, 104,  76,   2,  88,\n",
              "        64,  78,  82,  83,  78,  85,  64,  77,   2])"
            ]
          },
          "metadata": {},
          "execution_count": 51
        }
      ],
      "source": [
        "sampled_indices"
      ]
    },
    {
      "cell_type": "code",
      "execution_count": 52,
      "metadata": {
        "colab": {
          "base_uri": "https://localhost:8080/"
        },
        "id": "Gi9HOzw9EajS",
        "outputId": "c54e45ed-7d9c-4ea0-fadd-1254a7620c9a"
      },
      "outputs": [
        {
          "output_type": "stream",
          "name": "stdout",
          "text": [
            "Input:\n",
            " \"et, se on kuitenkin se aisa, joka kestää', sanoo isä. Vaan\\r\\nvoi välistä olla hyödyksi elää roistojen\"\n",
            "\n",
            "Next char prediction:\n",
            " 'ny muksl munnenkin.sumankok soka ourteä   nanoi\\risä,.Säin \\nmiinhahtntä mlla vevtytsi siäm yaostovan '\n"
          ]
        }
      ],
      "source": [
        "print('Input:\\n', repr(''.join(index2char[input_example_batch[0]])))\n",
        "print()\n",
        "print('Next char prediction:\\n', repr(''.join(index2char[sampled_indices])))"
      ]
    },
    {
      "cell_type": "code",
      "execution_count": 53,
      "metadata": {
        "colab": {
          "base_uri": "https://localhost:8080/"
        },
        "id": "b87e0lsYMTsv",
        "outputId": "cceb41fb-b7b5-437b-8f51-13b25f93e455"
      },
      "outputs": [
        {
          "output_type": "stream",
          "name": "stdout",
          "text": [
            "Prediction  0\n",
            "  input: 68 ('e')\n",
            "  next predicted: 2 ('n')\n",
            "Prediction  1\n",
            "  input: 83 ('t')\n",
            "  next predicted: 2 ('y')\n",
            "Prediction  2\n",
            "  input: 14 (',')\n",
            "  next predicted: 2 (' ')\n",
            "Prediction  3\n",
            "  input: 2 (' ')\n",
            "  next predicted: 2 ('m')\n",
            "Prediction  4\n",
            "  input: 82 ('s')\n",
            "  next predicted: 2 ('u')\n"
          ]
        }
      ],
      "source": [
        "for i, (input_idx, sample_idx) in enumerate(zip(input_example_batch[0][:5], sampled_indices[:5])):\n",
        "    print('Prediction {:2d}'.format(i))\n",
        "    print('  input: {} ({:s})'.format(input_idx, repr(index2char[input_idx])))\n",
        "    print('  next predicted: {} ({:s})'.format(target_idx, repr(index2char[sample_idx])))"
      ]
    },
    {
      "cell_type": "markdown",
      "metadata": {
        "id": "LqcBufKEE_p6"
      },
      "source": [
        "## Train the model\n",
        "\n",
        "At this point the problem can be treated as a standard classification problem. Given the previous RNN state, and the input this time step, predict the class of the next character."
      ]
    },
    {
      "cell_type": "markdown",
      "metadata": {
        "id": "l4s0-PvrFub5"
      },
      "source": [
        "### Attach an optimizer, and a loss function"
      ]
    },
    {
      "cell_type": "code",
      "execution_count": 54,
      "metadata": {
        "colab": {
          "base_uri": "https://localhost:8080/"
        },
        "id": "UOEUUm6JE95a",
        "outputId": "ec9621ff-8981-4068-9e02-45deed87a88e"
      },
      "outputs": [
        {
          "output_type": "stream",
          "name": "stdout",
          "text": [
            "Prediction shape:  (64, 100, 119)  # (batch_size, sequence_length, vocab_size)\n",
            "Scalar_loss:       1.3465905\n"
          ]
        }
      ],
      "source": [
        "# An objective/loss function.\n",
        "# The function is any callable with the signature scalar_loss = fn(y_true, y_pred).\n",
        "def loss(labels, logits):\n",
        "    return tf.keras.losses.sparse_categorical_crossentropy(\n",
        "      y_true=labels,  # [1, 2, 3]\n",
        "      y_pred=logits,  # [[-12.6, -312.2, -412.1, ...], [0.2, -1.6, -7.2, .-], []]  with logits...\n",
        "      from_logits=True  \n",
        "      # y_pred is not a probability distribution (i.e. has nto gone thru softmax), just the raw outputs from output Dense layer\n",
        "    )\n",
        "\n",
        "example_batch_loss = loss(target_example_batch, example_batch_predictions)\n",
        "\n",
        "print(\"Prediction shape: \", example_batch_predictions.shape, \" # (batch_size, sequence_length, vocab_size)\")\n",
        "print(\"Scalar_loss:      \", example_batch_loss.numpy().mean())"
      ]
    },
    {
      "cell_type": "code",
      "execution_count": 55,
      "metadata": {
        "id": "SXhJsB6eFgrJ"
      },
      "outputs": [],
      "source": [
        "# Used Adam optimizer, compile model\n",
        "adam_optimizer = tf.keras.optimizers.Adam(learning_rate=0.001)\n",
        "\n",
        "model.compile(\n",
        "    optimizer=adam_optimizer,\n",
        "    loss=loss\n",
        ")"
      ]
    },
    {
      "cell_type": "markdown",
      "metadata": {
        "id": "oFg9MFJoGZWf"
      },
      "source": [
        "### Execute the training"
      ]
    },
    {
      "cell_type": "markdown",
      "source": [
        "The model has been trained over multiple training sessions, each time loading the persisted model parameters retained from the previous training session. \n",
        "\n",
        "So the EPOCHS below is not the total number of epochs.\n",
        "\n",
        "In Colab, one epoch has been taking 6-7 minutes to complete (with GPU-accelerated runtime). Would take several hours with just CPU runtime.\n"
      ],
      "metadata": {
        "id": "ivf37pn5PXjL"
      }
    },
    {
      "cell_type": "code",
      "execution_count": 56,
      "metadata": {
        "id": "AVk-pARPGaja"
      },
      "outputs": [],
      "source": [
        "EPOCHS = 2  # has been trained for several "
      ]
    },
    {
      "cell_type": "code",
      "source": [
        "#model.compile(\n",
        "#    optimizer=adam_optimizer,\n",
        "#    loss=loss\n",
        "#)\n",
        "\n",
        "#model.load_weights(tf.train.latest_checkpoint(checkpoint_dir))\n",
        "#model.build(tf.TensorShape([None, 100, embedding_dim]))\n"
      ],
      "metadata": {
        "id": "NhXwltScjwal"
      },
      "execution_count": 57,
      "outputs": []
    },
    {
      "cell_type": "code",
      "execution_count": 58,
      "metadata": {
        "colab": {
          "base_uri": "https://localhost:8080/"
        },
        "id": "y0rveBdAGeEz",
        "outputId": "51e71253-eb50-48dd-e8f7-7140a6dab578"
      },
      "outputs": [
        {
          "output_type": "stream",
          "name": "stdout",
          "text": [
            "Epoch 1/2\n",
            "2564/2564 [==============================] - ETA: 0s - loss: 1.2034\n",
            "Epoch 00001: loss improved from inf to 1.20336, saving model to /content/gdrive/MyDrive/colab/finnish_rnn_model/aho/aho_ckpt\n",
            "2564/2564 [==============================] - 416s 160ms/step - loss: 1.2034\n",
            "Epoch 2/2\n",
            "2564/2564 [==============================] - ETA: 0s - loss: 1.2004\n",
            "Epoch 00002: loss improved from 1.20336 to 1.20044, saving model to /content/gdrive/MyDrive/colab/finnish_rnn_model/aho/aho_ckpt\n",
            "2564/2564 [==============================] - 412s 160ms/step - loss: 1.2004\n"
          ]
        }
      ],
      "source": [
        "# Train. Store model weights to Google Drive after each epoch\n",
        "\n",
        "history = model.fit(\n",
        "  x=dataset,\n",
        "  epochs=EPOCHS,\n",
        "  callbacks=[\n",
        "    checkpoint_callback\n",
        "  ]\n",
        ")\n",
        "\n",
        "# Let's save also the full model\n",
        "model_name = 'text_generation_juhani_aho_rnn.h5'\n",
        "model.save(f\"/content/gdrive/MyDrive/colab/finnish_rnn_model/{model_name}\", save_format='h5')\n",
        "\n",
        "\n",
        "# Progress over several training sessions\n",
        "# loss 2.x\n",
        "# loss: 1.8765\n",
        "# loss 1.4\n",
        "# loss 1.2 (<-- a couple of hours of training to get here)"
      ]
    },
    {
      "cell_type": "code",
      "execution_count": 57,
      "metadata": {
        "id": "mLdnOyvzMggJ"
      },
      "outputs": [],
      "source": [
        "def plot_training_history(training_history):\n",
        "  # Right now this does not have the full history when model is trained in parts.\n",
        "  loss = training_history.history['loss']\n",
        "  plt.title('Loss')\n",
        "  plt.xlabel('Epoch')\n",
        "  plt.ylabel('Loss')\n",
        "  plt.plot(loss, label='Training set')\n",
        "  plt.legend()\n",
        "  plt.grid(linestyle='--', linewidth=1, alpha=0.5)\n",
        "  plt.show()"
      ]
    },
    {
      "cell_type": "code",
      "execution_count": 110,
      "metadata": {
        "colab": {
          "base_uri": "https://localhost:8080/",
          "height": 295
        },
        "id": "4Ghveem_OQBV",
        "outputId": "53e8165f-1297-44d9-e6a3-03022ee3ff24"
      },
      "outputs": [
        {
          "output_type": "display_data",
          "data": {
            "image/png": "[encoded data removed]",
            "text/plain": [
              "<Figure size 432x288 with 1 Axes>"
            ]
          },
          "metadata": {
            "needs_background": "light"
          }
        }
      ],
      "source": [
        "plot_training_history(history)"
      ]
    },
    {
      "cell_type": "markdown",
      "metadata": {
        "id": "X-dhNP2OG2EM"
      },
      "source": [
        "## Generate text (undiscovered works of Juhani Aho, maybe?)"
      ]
    },
    {
      "cell_type": "markdown",
      "metadata": {
        "id": "SU_YfP6sG3NC"
      },
      "source": [
        "### Restore the latest checkpoint\n",
        "\n",
        "To keep this prediction step simple, let's use a batch size of 1.\n",
        "\n",
        "Because of the way the RNN state is passed from timestep to timestep, the model only accepts a fixed batch size once built.\n",
        "\n",
        "To run the model with a different `batch_size`, we need to rebuild the model and restore the weights from the checkpoint."
      ]
    },
    {
      "cell_type": "code",
      "execution_count": 59,
      "metadata": {
        "colab": {
          "base_uri": "https://localhost:8080/",
          "height": 36
        },
        "id": "BlG8o3wiG6f2",
        "outputId": "b7b6ceca-6757-4738-8234-f4cfb24624fc"
      },
      "outputs": [
        {
          "output_type": "execute_result",
          "data": {
            "application/vnd.google.colaboratory.intrinsic+json": {
              "type": "string"
            },
            "text/plain": [
              "'/content/gdrive/MyDrive/colab/finnish_rnn_model/aho/aho_ckpt'"
            ]
          },
          "metadata": {},
          "execution_count": 59
        }
      ],
      "source": [
        "# This should be the correct checkpoint to restore:\n",
        "tf.train.latest_checkpoint(checkpoint_dir)  # OK, we have now only this one file we are overwriting"
      ]
    },
    {
      "cell_type": "code",
      "execution_count": 60,
      "metadata": {
        "id": "l7evN0LvH01P",
        "colab": {
          "base_uri": "https://localhost:8080/"
        },
        "outputId": "aaecab07-dfc9-4c4d-c4e2-2c2275887f7b"
      },
      "outputs": [
        {
          "output_type": "stream",
          "name": "stdout",
          "text": [
            "Model instantiated from scratch!\n"
          ]
        }
      ],
      "source": [
        "BATCH_SIZE_GEN = 1\n",
        "\n",
        "model_gen = build_model(vocab_size, EMBEDDING_SIZE, RNN_UNITS, batch_size=BATCH_SIZE_GEN, use_checkpoint=False)\n",
        "\n",
        "# \"Manually\" load the learned weights\n",
        "model_gen.load_weights(tf.train.latest_checkpoint(checkpoint_dir))\n",
        "\n",
        "# And build for the decided simple batch size (1)\n",
        "model_gen.build(tf.TensorShape([BATCH_SIZE_GEN, None]))"
      ]
    },
    {
      "cell_type": "code",
      "execution_count": 61,
      "metadata": {
        "colab": {
          "base_uri": "https://localhost:8080/"
        },
        "id": "Y3eduDtZI9zQ",
        "outputId": "e21ad82f-65c0-4369-c40f-62639720eafb"
      },
      "outputs": [
        {
          "output_type": "stream",
          "name": "stdout",
          "text": [
            "Model: \"sequential_1\"\n",
            "_________________________________________________________________\n",
            " Layer (type)                Output Shape              Param #   \n",
            "=================================================================\n",
            " embedding_1 (Embedding)     (1, None, 256)            30464     \n",
            "                                                                 \n",
            " lstm_1 (LSTM)               (1, None, 1024)           5246976   \n",
            "                                                                 \n",
            " dense_1 (Dense)             (1, None, 119)            121975    \n",
            "                                                                 \n",
            "=================================================================\n",
            "Total params: 5,399,415\n",
            "Trainable params: 5,399,415\n",
            "Non-trainable params: 0\n",
            "_________________________________________________________________\n"
          ]
        }
      ],
      "source": [
        "model_gen.summary()"
      ]
    },
    {
      "cell_type": "markdown",
      "metadata": {
        "id": "euNvAtr4JC3A"
      },
      "source": [
        "### Prediction loop for text generation\n",
        "\n",
        "The following code block generates new text:\n",
        "\n",
        "- It starts by choosing a cue string, initializing the RNN state and setting the number of characters to generate.\n",
        "\n",
        "- Get the prediction distribution of the next character using the cue string and the RNN state.\n",
        "\n",
        "- Then, use a categorical distribution to calculate the index of the predicted character. Use this predicted character as our next input to the model.\n",
        "\n",
        "- The RNN state returned by the model is fed back into the model so that it now has more context, instead than only one character. After predicting the next character, the modified RNN states are again fed back into the model, which is how it learns as it gets more context from the previously predicted characters.\n",
        "\n",
        "Illustration of the text generation process:\n",
        "![Prediction loop](https://www.tensorflow.org/text/tutorials/images/text_generation_sampling.png)\n",
        "\n",
        "Image source: [Text generation with an RNN](https://www.tensorflow.org/tutorials/text/text_generation) tensorflow notebook."
      ]
    },
    {
      "cell_type": "code",
      "execution_count": 63,
      "metadata": {
        "id": "bOqdqGouJFf_"
      },
      "outputs": [],
      "source": [
        "# num_generate\n",
        "# - number of characters to generate.\n",
        "#\n",
        "# temperature\n",
        "# - Low temperatures results in more predictable text.\n",
        "# - Higher temperatures results in more surprising text.\n",
        "# - Experiment to find the best setting.\n",
        "\n",
        "def generate_text(model, start_string: str, \n",
        "                  num_chars: int = 1000, temperature: float = 1.0) -> str:\n",
        "    # Evaluation step (generating text using the learned model)\n",
        "\n",
        "    # Converting our start string to numbers (vectorizing).\n",
        "    input_indices = [char2index[s] for s in start_string]\n",
        "    input_indices = tf.expand_dims(input_indices, 0)\n",
        "\n",
        "    # Empty string to store our results.\n",
        "    text_generated = []\n",
        "\n",
        "    # Here batch size == 1.\n",
        "    model.reset_states()\n",
        "    for char_index in range(num_chars):\n",
        "        preds = model(input_indices)\n",
        "        # remove the batch dimension\n",
        "        preds = tf.squeeze(preds, 0)\n",
        "\n",
        "        # Using a categorical distribution to predict the character returned by the model.\n",
        "        predicted_id = tf.random.categorical(\n",
        "                          preds / temperature,\n",
        "                          num_samples=1\n",
        "                          )[-1,0].numpy()\n",
        "\n",
        "        # We pass the predicted character as the next input to the model\n",
        "        # along with the previous hidden state.\n",
        "        input_indices = tf.expand_dims([predicted_id], 0)\n",
        "\n",
        "        text_generated.append(index2char[predicted_id])\n",
        "\n",
        "    return (start_string + ''.join(text_generated))"
      ]
    },
    {
      "cell_type": "code",
      "execution_count": 64,
      "metadata": {
        "colab": {
          "base_uri": "https://localhost:8080/"
        },
        "id": "Z-8e8P60J5Pg",
        "outputId": "34590084-d700-4e66-d28d-ca7fc15d413a"
      },
      "outputs": [
        {
          "output_type": "stream",
          "name": "stdout",
          "text": [
            "mies kuunteli tarkkaavaisesti tämä kahdenkymmenen\r\n",
            "kuvan jälkeen.\r\n",
            "\r\n",
            "Markiini, että tiedot laskeutuu samassa. Voitte maisterin paremman tai kaikki\r\n",
            "kadun, pistettiin uudelleen ja hetken aikaa ohitsensa, 1231, josta\r\n",
            "kukaan tuskin 4 ja 1996 saksaksi, paukahtavan maantiedettä toiseen. Ensi\r\n",
            "meneväin auterman kuluessa torpassa Vellitä illallista.\r\n",
            "\r\n",
            "-- Hyvä.\r\n",
            "\r\n",
            "Kreivittären osoitettiin läheisesti kyllä kuitenkin toivoni, riittää\r\n",
            "_soitio_ näin ohitseaisia vaaroja vastaan, uskalsi hän koira joku hyödyttäisi.\r\n",
            "Jättäkäämme rannalle ylivoiman todistuksen aikoja, joiden valtaistuimen\r\n",
            "laitojen muisto on vihitty liikkeella noussut kestäessä avioksensa\r\n",
            "avara mies; hänen majesteettinsa hyökkäsi unistaa, palasi tämä aivan iso yt taitavasti. Saivassa tähän taittelemaan, asetti\r\n",
            "nunnan, aaltoaisiin lapsille. Vihdoin ei ojäksi heittykiä kiilteltäviä. Ymmärtäväinen kesäle\r\n",
            "Bertelsköldin kanssa, ei enivirretyn mies. Joku velvollisuus ajatteli:\r\n",
            "panette muinoin ihmeissään, onnetonna viimeisen yöplä, joka lähetti nyt paikalle, joka\r\n"
          ]
        }
      ],
      "source": [
        "# Generate the text with default temperature (1.0).\n",
        "print(generate_text(model_gen, start_string=u\"mies kuunteli tarkkaavaisesti \"))"
      ]
    },
    {
      "cell_type": "markdown",
      "source": [
        "After 5 epochs (has picked up the structure, resembles correct text)\n",
        "\n",
        "\n",
        "```\n",
        "`mies kuunteli tarkkaavaisest avaimet hyvin kirjoitettuna on pani\n",
        "heijasta. Kun Bertelsköld hyvän vanhurskaudensa, antoi syviä, \"Ei teillä olisi sance\n",
        "the permission of the stade a Refund of dömatta ateidens   noiden geverårieus und, que check that infommen ajettu tutkimusta\n",
        "kuin olisin \"Portholmati Pohjanmaankuusta, lukea minun kiriesinen sopinut. Mitä minun täytyy,\n",
        "vahvan larvaan ja lepokokuningatar vie hänen\n",
        "viinaamme, avasi teidät.\n",
        "\n",
        "-- Ollen sanottu noita laskea.\n",
        "\n",
        "Siinä on niin pelättävä, -- mitä urhoollisimman ilkinaukotukulupan, joka vetäisi kreivitär sovituksistaan. -- Hittaa\n",
        "mies orvön asunto uhkaavan.\n",
        "\n",
        "-- Kenties vuosisata nykyjiä.\n",
        "\n",
        "-- Hyvät Porrat tietysti nota saksankin arvokas kunnia ei siis suljebua_ laws_ ne osoittaneeksi ajatella sen ajatuksiin, eikö arkele\n",
        "osoittanutkaan, ei veljeä politiikan haamasta, loistavatkaan te aina hermojen chenfelt concerie_, onko hän haihtunut hänessäkin\n",
        "tällä vuorosta, jonka perhot tulisivat suuttuneet tyytyväisense lähelle\n",
        "myöten pahe se on silmillä vet\n",
        "```\n",
        "\n",
        "\n",
        "After ~15 epochs or so (starts to spell correcly, not that much garbage but still pretty nonsensical):\n",
        "\n",
        "```\n",
        "mies kuunteli tarkkaavaisesti tämä kahdenkymmenen\n",
        "kuvan jälkeen.\n",
        "\n",
        "Markiini, että tiedot laskeutuu samassa. Voitte maisterin paremman tai kaikki\n",
        "kadun, pistettiin uudelleen ja hetken aikaa ohitsensa, 1231, josta\n",
        "kukaan tuskin 4 ja 1996 saksaksi, paukahtavan maantiedettä toiseen. Ensi\n",
        "meneväin auterman kuluessa torpassa Vellitä illallista.\n",
        "\n",
        "-- Hyvä.\n",
        "\n",
        "Kreivittären osoitettiin läheisesti kyllä kuitenkin toivoni, riittää\n",
        "_soitio_ näin ohitseaisia vaaroja vastaan, uskalsi hän koira joku hyödyttäisi.\n",
        "Jättäkäämme rannalle ylivoiman todistuksen aikoja, joiden valtaistuimen\n",
        "laitojen muisto on vihitty liikkeella noussut kestäessä avioksensa\n",
        "avara mies; hänen majesteettinsa hyökkäsi unistaa, palasi tämä aivan iso yt taitavasti. Saivassa tähän taittelemaan, asetti\n",
        "nunnan, aaltoaisiin lapsille. Vihdoin ei ojäksi heittykiä kiilteltäviä. Ymmärtäväinen kesäle\n",
        "Bertelsköldin kanssa, ei enivirretyn mies. Joku velvollisuus ajatteli:\n",
        "panette muinoin ihmeissään, onnetonna viimeisen yöplä, joka lähetti nyt paikalle, joka\n",
        "```"
      ],
      "metadata": {
        "id": "uoyVgZvJYYed"
      }
    },
    {
      "cell_type": "code",
      "source": [
        ""
      ],
      "metadata": {
        "id": "P1FnkE9MYXt8"
      },
      "execution_count": null,
      "outputs": []
    },
    {
      "cell_type": "code",
      "execution_count": 66,
      "metadata": {
        "colab": {
          "base_uri": "https://localhost:8080/"
        },
        "id": "wq_NlwWJSdix",
        "outputId": "19d8a8a4-ced3-4683-fc03-24767786003b"
      },
      "outputs": [
        {
          "output_type": "stream",
          "name": "stdout",
          "text": [
            "aurinko paistoi hänen hienoavan!\r\n",
            "\r\n",
            "Eikä enää usko ulkonaismaailmansa asioiksi. Sillä vaikutti sitä madame, mutta\r\n",
            "samalla äitini, -- juusitpiessä tai paljastetaan\r\n",
            "jakelinsa esiin, jollei provas lauet ajanverta\r\n",
            "yhdistää suulleen kesyttömään muuten minusta, niin on minulla oleva ihman\r\n",
            "isällistä helposti voinut lleen\r\n",
            "ajamaan Paul, sittellen näitä navetista; oli tuo molemmat ja\r\n",
            "matruusivaruvan avaran Perttilän yli ja\r\n",
            "karkoitteli lehtiä painautui Istvanin\r\n",
            "pirtissä sohvassa ja avasi palvelijain maahan. Haavoittuneena virkkoi: -- Äiti,\r\n",
            "yhteentörhoittanne, Suomen is, kiisteettiin merkkiä Ameria sitä miettien. Kyllä pilkas\r\n",
            "kunatulella on iänin hyväntahdoin nukkua, yksi niiden jossakin oli autio\r\n",
            "silmäyhäirisivät hyökkäsivät\r\n",
            "sitten: \"En ikinäkäs sitä. Annoin puseni.... Kas nytkin! Joiostelleet parhaiten Lobrakän muungossa klo 10 aajohan, keruo ruutia, vain siitä haavasta, jota se voi tulla vastaan Taneli\r\n",
            "Bernhard ipresi\r\n",
            "hajauliestään; mitä a sen otettiin\r\n",
            "alvesta\r\n",
            "urkki.\r\n",
            "Nuo hartaat mäträitä, pait\n"
          ]
        }
      ],
      "source": [
        "# Generate the text with higher temperature to get more unexpected results.\n",
        "print(generate_text(model_gen, start_string=\"aurinko paistoi \", temperature=1.2))"
      ]
    },
    {
      "cell_type": "markdown",
      "metadata": {
        "id": "0hh80MqEO_XI"
      },
      "source": [
        "## Save the text generating model"
      ]
    },
    {
      "cell_type": "code",
      "source": [
        "model_gen_name = 'text_generation_juhani_aho_rnn_gen.h5'\n",
        "model_gen.save(f\"/content/gdrive/MyDrive/colab/finnish_rnn_model/{model_gen_name}\", save_format='h5')"
      ],
      "metadata": {
        "colab": {
          "base_uri": "https://localhost:8080/"
        },
        "id": "FpfJT3-ji5WI",
        "outputId": "6f2bec98-950b-418d-f72b-be7994830674"
      },
      "execution_count": null,
      "outputs": [
        {
          "output_type": "stream",
          "name": "stdout",
          "text": [
            "WARNING:tensorflow:Compiled the loaded model, but the compiled metrics have yet to be built. `model.compile_metrics` will be empty until you train or evaluate the model.\n"
          ]
        }
      ]
    }
  ],
  "metadata": {
    "colab": {
      "collapsed_sections": [],
      "name": "RNN-generating-Finnish-literature.ipynb",
      "provenance": []
    },
    "kernelspec": {
      "display_name": "Python 3",
      "language": "python",
      "name": "python3"
    },
    "language_info": {
      "codemirror_mode": {
        "name": "ipython",
        "version": 3
      },
      "file_extension": ".py",
      "mimetype": "text/x-python",
      "name": "python",
      "nbconvert_exporter": "python",
      "pygments_lexer": "ipython3",
      "version": "3.7.6"
    },
    "accelerator": "GPU"
  },
  "nbformat": 4,
  "nbformat_minor": 0
}